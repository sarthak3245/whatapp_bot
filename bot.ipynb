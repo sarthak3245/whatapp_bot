{
 "cells": [
  {
   "cell_type": "code",
   "execution_count": null,
   "id": "a00a9ffc-1c0b-42da-a325-9762006a542e",
   "metadata": {},
   "outputs": [],
   "source": [
    "import webbrowser as wb\n",
    "from keyboard import press\n",
    "import time\n",
    "import datetime\n",
    "\n",
    "def whatsapp(to, message, wait):\n",
    "    if wait > 0: \n",
    "        print(f\"Your message will be sent after {wait} seconds.\")\n",
    "        time.sleep(wait) \n",
    "        wb.open_new_tab(f\"https://web.whatsapp.com/send?phone={to}&text={message}\")\n",
    "        time.sleep(20)  \n",
    "        press('enter')  \n",
    "    else:\n",
    "        print(\"Scheduled time is in the past. Please set a future time.\")\n",
    "\n",
    "def display_time():\n",
    "    current_time = datetime.datetime.now().strftime(\"%H:%M:%S\")\n",
    "    print(f\"Current time: {current_time}\")\n",
    "\n",
    "if __name__ == \"__main__\":\n",
    "    display_time()\n",
    "    while True:\n",
    "        to = input(\"Whom should I contact? \")\n",
    "        message = input(\"What should I say? \")\n",
    "\n",
    "        hour = datetime.datetime.now().hour\n",
    "        minute = datetime.datetime.now().minute\n",
    "        second = datetime.datetime.now().second\n",
    "\n",
    "       \n",
    "        c_time = hour * 3600 + minute * 60 + second\n",
    "\n",
    "        send_hour = int(input(\"When should I send it? (hour) \"))\n",
    "        send_minute = int(input(\"Tell me about the minutes? \"))\n",
    "        send_second = int(input(\"What about the seconds? \"))\n",
    "\n",
    "        \n",
    "        n_time = send_hour * 3600 + send_minute * 60 + send_second\n",
    "\n",
    "       \n",
    "        wait = n_time - c_time\n",
    "\n",
    "        if wait < 0:  \n",
    "            print(\"Scheduled time is in the past. Adjusting to the next day.\")\n",
    "            wait += 24 * 3600 \n",
    "\n",
    "        print(f\"Your message will be sent after {wait} seconds.\")\n",
    "        whatsapp(to, message, wait)\n"
   ]
  }
 ],
 "metadata": {
  "kernelspec": {
   "display_name": "Python 3 (ipykernel)",
   "language": "python",
   "name": "python3"
  },
  "language_info": {
   "codemirror_mode": {
    "name": "ipython",
    "version": 3
   },
   "file_extension": ".py",
   "mimetype": "text/x-python",
   "name": "python",
   "nbconvert_exporter": "python",
   "pygments_lexer": "ipython3",
   "version": "3.12.4"
  }
 },
 "nbformat": 4,
 "nbformat_minor": 5
}
